{
 "cells": [
  {
   "cell_type": "markdown",
   "metadata": {},
   "source": [
    "### Christie Gan\n",
    "#### DATA 512\n",
    "#### Date\n",
    "#### Final Project\n",
    "\n",
    "##### Motivation and problem statement\n",
    "\n",
    "Given that so many people here in Puget Sound are a part of the tech industry or are interested in joining, I wanted to see how does working in the tech industry affect our mental health. The tech industry is known for being fast paced and harsh in the sense that it expects many deliverables and products on a yearly basis. Additonally, programming for many years can become taxing over time. I want to examine how working a tech job affects the mental health of different demographics. It would be beneficial to see how if affects different people as companies can work to improve mental health of their employees. Also, I'm very curious about the results, as I am also a part of the tech industry. I would like to learn whether a certain gender or country is affected more by mental health while working in a tech job. My main question is how does working in the tech industry affect employee's mental health based on different employee demographics?\n",
    "\n",
    "Also if I have enough space to widen the scope I might also consider how are the tech employers doing enough to mitigate the mental healh issues at their company.\n",
    "\n",
    "\n",
    "##### Research questions and/or hypotheses\n",
    "\n",
    "- Research question: how are different demographics of tech workers' mental health affected in the tech industry? \n",
    "- Hypothesis: I think older (>30) women's mental health from countries/states that have a small tech scene will be most negatively affected.\n",
    "\n",
    "\n",
    "##### Data selected for analysis\n",
    "\n",
    "My data is from Kaggle: https://www.kaggle.com/osmi/mental-health-in-tech-survey. I believe it is open source, as the author of the dataset is Open Sourcing Mental Illness, LTD. I want to use this because it's a very clean dataset that doesn't require a lot of cleaning or manipulation. It also has some great key columns that I'll need, such as age, gender, country, state, whether the employer is considered tech, work interference, benefits, and anonymity. I can group certain categories together and count how many people of a demographic has mental health that affects their work, whether they are willing to share it or not, etc. As the data was obtained through volunteers who completed the mental health survey, there isn' too many ethical concerns on the employees side, but there are some concerns with using the dataset that could affect the employer. Luckily, the employer's company name and supervisors are not shared in this dataset, but there are some columns that could potentially call out employers who have not been caring for mental health in the workplace.\n",
    "\n",
    "The license is CC BY-SA 4.0.\n",
    "Link to license: https://creativecommons.org/licenses/by-sa/4.0/\n",
    "Public dataset\n",
    "\n",
    "\n",
    "##### Unknowns and dependencies\n",
    "\n",
    "If I keep the scope of the project to just examining which demographics are more heavily impacted by mental health, then I think I can complete the project on time. If I widen the scope to how are tech companies working to fix mental health issues in their workplace, then that would be tougher question and involve more columns of data. So I would like to perform some EDA and work with the data more before I commit to widening the scope. I believe I will just be using this dataset as well.\n",
    "\n",
    "Thinking on dependencies, I don't think I have a dependency on any other dataset. However, this brings the concern on if I widen the scope, and need more columns of data, it would be very difficult to find another dataset to append to this one as there are no similar identifying keys/unique IDs. As of now, I don't anticipate using another dataset but if I need to later on, it would be difficult to join it with this dataset. However, I could always use the datasets separately and that would resolve the issue.\n",
    "\n",
    "\n",
    "##### Background/Related Work: \n",
    "\n",
    "There is actually a lot of great articles and studies done previously examining how working in the tech industry affects mental health. In fact, I wouldn't be able to link them all because it's such a braod and popular topic. But none specifically looks at how mental health could be impacted differently for different types of tech employees. In most of previous articles, the general consensus was that working a fast paced, stressful tech job will lower mental health for everyone. It is almost assumed as a given in these articles. In [Let's Talk: It's Time to Get Serious About Mental Illness in Tech](https://www.iqmetrix.com/blog/lets-talk-its-time-to-get-serious-about-mental-illness-in-tech), the statistics show how founders of tech companies are 2X more likely to suffer depression, 6X more likely to have ADHD, and 3X more likely to have substance abuse. This are some alarming statistics. And it's not just founders, a lot of tech workers suffer in the same way.\n",
    "Simiarily in another article, in [Mental Health Awareness Week - the tech industry crisis that organizations need to tackle](Mental Health Awareness Week - the tech industry crisis that organizations need to tackle) the article raises up the point that 2/3 of tech workers feel stressed and more than half will experience depression or anxiety at some point.\n",
    "\n",
    "But what if we dug into deeper details, and took a look at which tech workers are most affected?\n",
    "The only curiosity that I had, after reading all of these articles, was which demographic of tech workers are most affected in terms of mental health. I plan on examining gender and location as the defining demographic variables.\n",
    "\n",
    "The data that I will be examining has come from [Open Sourcing Mental Illness](https://osmihelp.org/). They have already conducted a study back in 2014 and individually surveyed tech workers to gather this information. Luckily, they gathered some demographic data.\n",
    "\n",
    "\n",
    "##### Methodology: \n",
    "I will probably break up the project into four parts.\n",
    "I plan on starting off my analysis with data cleaning because some of the data isn't standardized (free form text left some spelling errors and different forms of writing). Then I would want to do some EDA, then work on statistical analysis, then create some data visualizations. \n",
    "I chose EDA because I think being able to extract the basic statistics would give the reader a good approximate counts of which employees are affected the most. Then I chose statistical analysis in order to verify and confirm the findings from EDA. Finally I think having data visualizations would help the reader to easily see the conclusion along with our findings."
   ]
  }
 ],
 "metadata": {
  "kernelspec": {
   "display_name": "Python 3",
   "language": "python",
   "name": "python3"
  },
  "language_info": {
   "codemirror_mode": {
    "name": "ipython",
    "version": 3
   },
   "file_extension": ".py",
   "mimetype": "text/x-python",
   "name": "python",
   "nbconvert_exporter": "python",
   "pygments_lexer": "ipython3",
   "version": "3.7.4"
  }
 },
 "nbformat": 4,
 "nbformat_minor": 2
}
