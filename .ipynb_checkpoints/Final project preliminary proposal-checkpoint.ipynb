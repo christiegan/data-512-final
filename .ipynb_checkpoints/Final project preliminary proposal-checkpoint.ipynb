{
 "cells": [
  {
   "cell_type": "markdown",
   "metadata": {},
   "source": [
    "### Christie Gan\n",
    "#### 11/5/20\n",
    "#### Final Project Proposal\n",
    "\n",
    "##### Motivation and problem statement\n",
    "\n",
    "Given that so many people here in Puget Sound are a part of the tech industry or are interested in joining, I wanted to see how does working in the tech industry affect our mental health. The tech industry is known for being fast paced and harsh in the sense that it expects many deliverables and products on a yearly basis. Additonally, programming for many years can become taxing over time. I want to examine how working a tech job affects the mental health of different demographics. It would be beneficial to see how if affects different people as companies can work to improve mental health of their employees. Also, I'm very curious about the results, as I am also a part of the tech industry. I would like to learn whether a certain gender or country is affected more by mental health while working in a tech job. My main question is how does mental health affect different demographics of tech workers?\n",
    "\n",
    "Also if I have enough space to widen the scope I might also consider how are the tech employers doing enough to mitigate the mental healh issues at their company.\n",
    "\n",
    "##### Data selected for analysis\n",
    "\n",
    "My data is from Kaggle: https://www.kaggle.com/osmi/mental-health-in-tech-survey. I believe it is open source, as the author of the dataset is Open Sourcing Mental Illness, LTD. I want to use this because it's a very clean dataset that doesn't require a lot of cleaning or manipulation. It also has some great key columns that I'll need, such as gender, country, state, whether the employer is considered tech, work interference, benefits, and anonymity. I can group certain categories together and count how many people of a demographic has mental health that affects their work, whether they are willing to share it or not, etc. As the data was obtained through volunteers who completed the mental health survey, there isn' too many ethical concerns on the employees side, but there are some concerns with using the dataset that could affect the employer. Luckily, the employer's company name and supervisors are not shared in this dataset, but there are some columns that could potentially call out employers who have not been caring for mental health in the workplace.\n",
    "\n",
    "The license is CC BY-SA 4.0.\n",
    "Link to license: https://creativecommons.org/licenses/by-sa/4.0/\n",
    "Public dataset\n",
    "\n",
    "\n",
    "##### Unknowns and dependencies\n",
    "\n",
    "If I keep the scope of the project to just examining which demographics are more heavily impacted by mental health, then I think I can complete the project on time. If I widen the scope to how are tech companies working to fix mental health issues in their workplace, then that would be tougher question and involve more columns of data. So I would like to perform some EDA and work with the data more before I commit to widening the scope. I believe I will just be using this dataset as well.\n",
    "\n",
    "Thinking on dependencies, I don't think I have a dependency on any other dataset. However, this brings the concern on if I widen the scope, and need more columns of data, it would be very difficult to find another dataset to append to this one as there are no similar identifying keys/unique IDs. As of now, I don't anticipate using another dataset but if I need to later on, it would be difficult to join it with this dataset. However, I could always use the datasets separately and that would resolve the issue."
   ]
  }
 ],
 "metadata": {
  "kernelspec": {
   "display_name": "Python 3",
   "language": "python",
   "name": "python3"
  },
  "language_info": {
   "codemirror_mode": {
    "name": "ipython",
    "version": 3
   },
   "file_extension": ".py",
   "mimetype": "text/x-python",
   "name": "python",
   "nbconvert_exporter": "python",
   "pygments_lexer": "ipython3",
   "version": "3.7.4"
  }
 },
 "nbformat": 4,
 "nbformat_minor": 2
}
